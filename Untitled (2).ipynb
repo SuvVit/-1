{
 "cells": [
  {
   "cell_type": "markdown",
   "id": "2956f92c-7f05-4538-8d39-5279527300b2",
   "metadata": {
    "tags": []
   },
   "source": [
    " « My Jupyter Notebook on IBM Watson Studio » "
   ]
  },
  {
   "cell_type": "markdown",
   "id": "6fc14969-3467-4dd9-abe5-7205234fec9b",
   "metadata": {},
   "source": [
    "Vitaly\n",
    "Data Analyst"
   ]
  },
  {
   "cell_type": "markdown",
   "id": "e3d25230-3094-45bb-bde0-62eb81b2d48a",
   "metadata": {},
   "source": [
    "I'm interested in data science because data is very important to people, as a lot of discoveries can be made with data."
   ]
  },
  {
   "cell_type": "markdown",
   "id": "90b20606-7a98-4b3e-b7f3-90d4ecac6182",
   "metadata": {},
   "source": [
    "greetings"
   ]
  },
  {
   "cell_type": "code",
   "execution_count": null,
   "id": "f4ba633f-7c91-42d6-932f-d50140aa0684",
   "metadata": {},
   "outputs": [],
   "source": [
    "print('Hello world')"
   ]
  },
  {
   "cell_type": "markdown",
   "id": "209b0bcb-8da2-4011-b4d6-478917010f0b",
   "metadata": {},
   "source": [
    "https://scriptsource.org/char/U000022\n",
    "\n",
    "1.Option+⇧ Shift+=\n",
    "2.Option+=\n",
    "3.Option+⇧ Shift+/\n",
    "4.Option+/\n",
    "\n",
    "<meta charset=\"utf-8\">\n"
   ]
  },
  {
   "cell_type": "code",
   "execution_count": null,
   "id": "5ea5a399-e4d2-4722-802b-b2cf120fe655",
   "metadata": {},
   "outputs": [],
   "source": []
  }
 ],
 "metadata": {
  "kernelspec": {
   "display_name": "Python",
   "language": "python",
   "name": "conda-env-python-py"
  },
  "language_info": {
   "codemirror_mode": {
    "name": "ipython",
    "version": 3
   },
   "file_extension": ".py",
   "mimetype": "text/x-python",
   "name": "python",
   "nbconvert_exporter": "python",
   "pygments_lexer": "ipython3",
   "version": "3.7.12"
  }
 },
 "nbformat": 4,
 "nbformat_minor": 5
}
